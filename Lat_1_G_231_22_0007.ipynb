{
  "nbformat": 4,
  "nbformat_minor": 0,
  "metadata": {
    "colab": {
      "provenance": []
    },
    "kernelspec": {
      "name": "python3",
      "display_name": "Python 3"
    },
    "language_info": {
      "name": "python"
    }
  },
  "cells": [
    {
      "cell_type": "code",
      "execution_count": 5,
      "metadata": {
        "id": "W8GRyQE3CwIW"
      },
      "outputs": [],
      "source": [
        "import numpy as np\n",
        "from sklearn import preprocessing"
      ]
    },
    {
      "cell_type": "code",
      "source": [
        "input_data = np.array([[5.1, -2.9, 3.3],\n",
        "                         [-1.2, 7.8, -6.1],\n",
        "                         [3.9, 0.4, 2.1],\n",
        "                         [7.3, -9.9, -4.5]])\n"
      ],
      "metadata": {
        "id": "5VmgKonqDBLk"
      },
      "execution_count": 6,
      "outputs": []
    },
    {
      "cell_type": "code",
      "source": [
        "from sklearn.preprocessing import Binarizer\n",
        "\n",
        "data_binarized = Binarizer(threshold=2.1).transform(input_data)\n",
        "print(\"\\nBinarized data:\\n\", data_binarized)\n"
      ],
      "metadata": {
        "colab": {
          "base_uri": "https://localhost:8080/"
        },
        "id": "qYyuKyT6DhwP",
        "outputId": "38611495-430b-437c-c051-62c5f61b8834"
      },
      "execution_count": 11,
      "outputs": [
        {
          "output_type": "stream",
          "name": "stdout",
          "text": [
            "\n",
            "Binarized data:\n",
            " [[1. 0. 1.]\n",
            " [0. 1. 0.]\n",
            " [1. 0. 0.]\n",
            " [1. 0. 0.]]\n"
          ]
        }
      ]
    },
    {
      "cell_type": "code",
      "source": [
        "#print mean and standard devination (Ceatk rata-rata dan standar devisiasi)\n",
        "print(\"\\nBEFORE:\")\n",
        "print(\"Mean =\", input_data.mean(axis=0))\n",
        "print(\"Std deviation =\", input_data.std(axis=0))  # Corrected line\n"
      ],
      "metadata": {
        "colab": {
          "base_uri": "https://localhost:8080/"
        },
        "id": "F1xff0rsDh28",
        "outputId": "abe515eb-aca8-4a58-8a73-ac5bed48ad87"
      },
      "execution_count": 20,
      "outputs": [
        {
          "output_type": "stream",
          "name": "stdout",
          "text": [
            "\n",
            "BEFORE:\n",
            "Mean = [ 3.775 -1.15  -1.3  ]\n",
            "Std deviation = [3.12039661 6.36651396 4.0620192 ]\n"
          ]
        }
      ]
    },
    {
      "cell_type": "code",
      "source": [
        "from sklearn.preprocessing import StandardScaler\n",
        "\n",
        "data_scaled = StandardScaler().fit_transform(input_data)\n",
        "\n",
        "print(\"\\nAFTER:\")\n",
        "print(\"Mean =\", data_scaled.mean(axis=0))\n",
        "print(\"Std deviation =\", data_scaled.std(axis=0))\n"
      ],
      "metadata": {
        "colab": {
          "base_uri": "https://localhost:8080/"
        },
        "id": "TfnnKT3HGCN0",
        "outputId": "afdd125c-6dc7-4047-bb68-b7d030e17480"
      },
      "execution_count": 18,
      "outputs": [
        {
          "output_type": "stream",
          "name": "stdout",
          "text": [
            "\n",
            "AFTER:\n",
            "Mean = [1.11022302e-16 0.00000000e+00 2.77555756e-17]\n",
            "Std deviation = [1. 1. 1.]\n"
          ]
        }
      ]
    },
    {
      "cell_type": "code",
      "source": [
        "from sklearn.preprocessing import MinMaxScaler\n",
        "\n",
        "# Min max Scaling (Menentukan Niali Max dan Min)\n",
        "data_scaler_minmax = MinMaxScaler(feature_range=(0, 1))\n",
        "scaled_data = data_scaler_minmax.fit_transform(input_data)\n",
        "\n",
        "print(\"\\nMin max scaled data:\\n\", scaled_data)\n"
      ],
      "metadata": {
        "colab": {
          "base_uri": "https://localhost:8080/"
        },
        "id": "nGDbIdhFGdHr",
        "outputId": "1c989b36-f48e-4c26-f052-2dda0c8756b1"
      },
      "execution_count": 17,
      "outputs": [
        {
          "output_type": "stream",
          "name": "stdout",
          "text": [
            "\n",
            "Min max scaled data:\n",
            " [[0.74117647 0.39548023 1.        ]\n",
            " [0.         1.         0.        ]\n",
            " [0.6        0.5819209  0.87234043]\n",
            " [1.         0.         0.17021277]]\n"
          ]
        }
      ]
    }
  ]
}